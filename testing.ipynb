{
 "cells": [
  {
   "cell_type": "code",
   "execution_count": 1,
   "metadata": {},
   "outputs": [],
   "source": [
    "import moorpy.helpers as helpers"
   ]
  },
  {
   "cell_type": "markdown",
   "metadata": {},
   "source": [
    "**Legacy PointProps Method**"
   ]
  },
  {
   "cell_type": "code",
   "execution_count": 2,
   "metadata": {},
   "outputs": [
    {
     "name": "stdout",
     "output_type": "stream",
     "text": [
      "{'type': 'old_approach', 'm': 100000.0, 'v': 0.0, 'cost': None, 'mbl': None, 'info': None}\n"
     ]
    }
   ],
   "source": [
    "# legacy method\n",
    "out_dict = helpers.getPointProps(weight = 100)\n",
    "print(out_dict)\n"
   ]
  },
  {
   "cell_type": "markdown",
   "metadata": {},
   "source": [
    "**New PointProps Method**"
   ]
  },
  {
   "cell_type": "code",
   "execution_count": 3,
   "metadata": {},
   "outputs": [
    {
     "name": "stdout",
     "output_type": "stream",
     "text": [
      "{'type': 'general', 'm': 0.0, 'v': 0.0, 'cost': 30257.0084, 'mbl': 5000000.0, 'info': {}}\n"
     ]
    }
   ],
   "source": [
    "# new method\n",
    "pointprops = helpers.loadPointProps(None)\n",
    "out_dict = helpers.getPointProps(design = 'general', design_load=1000, Props=pointprops)\n",
    "print(out_dict)"
   ]
  },
  {
   "cell_type": "markdown",
   "metadata": {},
   "source": [
    "**GetLineProps**"
   ]
  },
  {
   "cell_type": "code",
   "execution_count": 4,
   "metadata": {},
   "outputs": [],
   "source": [
    "props = helpers.loadLineProps(None)\n",
    "\n",
    "# # new method\n",
    "# out_dict = helpers.getLineProps(51 , \"hmpe\", source=\"/Users/rdavies/work/MoorPy_ryan/moorpy/MoorProps_newCosts.yaml\")\n",
    "# print(out_dict)\n",
    "\n"
   ]
  },
  {
   "cell_type": "markdown",
   "metadata": {},
   "source": [
    "**Example YAML loading**"
   ]
  },
  {
   "cell_type": "code",
   "execution_count": 5,
   "metadata": {},
   "outputs": [
    {
     "name": "stdout",
     "output_type": "stream",
     "text": [
      "{lineProps : \n",
      "   {chain : \n",
      "      {'mass_d2': '20.0e3', 'EA_d3': '-3.93e7', 'EA_d2': '85.6e9', 'MBL_d3': '-2.19e9', 'MBL_d2': '1.21e9', 'MBL_d': '9.11e2', 'dvol_dnom': 1.8, 'cost_mass': 2.585, 'Cd': 1.333, 'Cd_ax': 0.639, 'Ca': 1.0, 'Ca_ax': 0.5}}\n",
      "   {chain_studlink : \n",
      "      {'mass_d2': '21.9e3', 'EA_d2': '88.0e9', 'MBL_d3': '-2.19e9', 'MBL_d2': '1.21e9', 'MBL_d': '9.11e2', 'dvol_dnom': 1.89, 'cost_mass': 2.585, 'Cd': 1.376, 'Cd_ax': 0.741, 'Ca': 1.0, 'Ca_ax': 0.5}}\n",
      "   {wire : \n",
      "      {'mass_d2': 5293, 'dvol_dnom': 1.18, 'MBL_d2': '1022e6', 'EA_d2': '97.1e9', 'Cd': 1.021, 'cost_MBL': 1.2e-05}}\n",
      "   {polyester : \n",
      "      {'mass_d2': 679, 'MBL_d2': '308e6', 'EA_MBL': 14, 'EAd_MBL': 11.6, 'EAd_MBL_Lm': 40.0, 'density': 1380, 'cost_MBL': 1.65e-05, 'Cd': 2.021, 'Ca': 1.1, 'Ca_ax': 0.15}}\n",
      "   {nylon : \n",
      "      {'mass_d2': 585, 'MBL_d3': '230e6', 'MBL_d2': '207e6', 'EA_MBL': 5, 'EAd_MBL': 2.08, 'EAd_MBL_Lm': 39.0, 'density': 1140, 'cost_MBL': 4.29e-05, 'Cd': 1.979, 'Ca': 1.1, 'Ca_ax': 0.15}}\n",
      "   {hmpe : \n",
      "      {'mass_d2': 496, 'MBL_d3': '651e6', 'MBL_d2': '580e6', 'EA_MBL': 56, 'EAd_MBL': 59, 'EAd_MBL_Lm': 54.0, 'density': 975, 'Cd': 1.988, 'Ca': 1.1, 'Ca_ax': 0.15, 'cost_MBL': 0.00014}}\n"
     ]
    }
   ],
   "source": [
    "import yaml\n",
    "\n",
    "source = \"/Users/rdavies/work/MoorPy_ryan/moorpy/MoorProps_default.yaml\"\n",
    "with open(source) as file:\n",
    "    source = yaml.load(file, Loader=yaml.FullLoader)\n",
    "\n",
    "for key in source.keys():\n",
    "    print(\"{\"+key+\" : \")\n",
    "    subdict = source[key]\n",
    "    for subkey in subdict:\n",
    "        print(\"   {\"+subkey+\" : \")\n",
    "        print(\"      \"+str(subdict[subkey])+\"}\")"
   ]
  },
  {
   "cell_type": "markdown",
   "metadata": {},
   "source": [
    "**Model Test Stuff**"
   ]
  },
  {
   "cell_type": "code",
   "execution_count": 6,
   "metadata": {},
   "outputs": [
    {
     "name": "stdout",
     "output_type": "stream",
     "text": [
      "WARNING: Multiple diameters found to produce MBL of 2000000 N. Diameter set to smallest, 0.042 m\n",
      "INFO: Line type 'chain' diameter set to 0.042 m corresponding to MBL of 1000000.000 N\n",
      "INFO: Anchor type set to 'drag-embedment'\n",
      "UHC input: 1000000 -- Mass: 3190.2354622445437\n",
      "INFO: 'drag-embedment' anchor mass set to 3190.235 kg for load direction 'horizontal' and soil type 'soft clay'\n",
      "--------- Cost Report (2024$) ---------\n",
      "System Parameters\n",
      "    Water Depth: 200.000 m\n",
      "Line Parameters\n",
      "    Material   : chain\n",
      "    Number     : 3\n",
      "    Length     : 1141.868 m\n",
      "    Diameter   : 0.042 m\n",
      "    design load: 1000.000 kN\n",
      "Anchor Parameters\n",
      "    Type       : drag-embedment\n",
      "    Number     : 3\n",
      "    Mass       : 3190.235 kg\n",
      "    Soil type  : soft clay\n",
      "Buoyancy Module Parameters\n",
      "--------------------------------------\n",
      "Anchor cost     : $ 39730.87  |  4.8%\n",
      "Line cost       : $ 728964.06  |  87.9%\n",
      "Buoy cost       : $ 0.00  |  0.0%\n",
      "Connection cost : $ 60514.02  |  7.3%\n",
      "Total cost      : $ 829208.95  |  100.0%\n",
      "---------------------------------------\n"
     ]
    }
   ],
   "source": [
    "# A0\n",
    "\n",
    "import model_draft3 as model_draft\n",
    "\n",
    "# initialize\n",
    "model = model_draft.model()\n",
    "model.load_database()\n",
    "\n",
    "model.set_paramsA0()\n",
    "\n",
    "model.calc_cost()"
   ]
  },
  {
   "cell_type": "code",
   "execution_count": 7,
   "metadata": {},
   "outputs": [
    {
     "name": "stdout",
     "output_type": "stream",
     "text": [
      "INFO: Using SAM level user provided parameters\n",
      "WARNING: Multiple diameters found to produce MBL of 2000000 N. Diameter set to smallest, 0.042 m\n",
      "INFO: Line type 'chain' diameter set to 0.042 m corresponding to MBL of 1000000.000 N\n",
      "INFO: Anchor type set to 'drag-embedment'\n",
      "UHC input: 1000000 -- Mass: 3190.2354622445437\n",
      "INFO: 'drag-embedment' anchor mass set to 3190.235 kg for load direction 'horizontal' and soil type 'soft clay'\n",
      "--------- Cost Report (2024$) ---------\n",
      "System Parameters\n",
      "    Water Depth: 200.000 m\n",
      "Line Parameters\n",
      "    Material   : chain\n",
      "    Number     : 3\n",
      "    Length     : 1141.868 m\n",
      "    Diameter   : 0.042 m\n",
      "    design load: 1000.000 kN\n",
      "Anchor Parameters\n",
      "    Type       : drag-embedment\n",
      "    Number     : 3\n",
      "    Mass       : 3190.235 kg\n",
      "    Soil type  : soft clay\n",
      "Buoyancy Module Parameters\n",
      "--------------------------------------\n",
      "Anchor cost     : $ 39730.87  |  4.8%\n",
      "Line cost       : $ 728964.06  |  87.9%\n",
      "Buoy cost       : $ 0.00  |  0.0%\n",
      "Connection cost : $ 60514.02  |  7.3%\n",
      "Total cost      : $ 829208.95  |  100.0%\n",
      "---------------------------------------\n"
     ]
    }
   ],
   "source": [
    "# A1\n",
    "\n",
    "import model_draft3 as model_draft\n",
    "\n",
    "# initialize\n",
    "model = model_draft.model()\n",
    "model.load_database()\n",
    "\n",
    "# # Buoy table headers: \"Num of these buoys\", \"Buoyancy (kN)\"\n",
    "# Buoy_table = [[3,10],[3,25]]\n",
    "Buoy_table = []\n",
    "\n",
    "model.set_paramsA1(shape=\"catenary\",depth=200,soil_type=\"soft clay\", design_load=1000, Buoy_Table=Buoy_table)\n",
    "\n",
    "model.calc_cost()"
   ]
  },
  {
   "cell_type": "code",
   "execution_count": 8,
   "metadata": {},
   "outputs": [
    {
     "name": "stdout",
     "output_type": "stream",
     "text": [
      "INFO: Using MoorDyn level parameters. 1 different line types\n",
      "INFO: Anchor type set to 'drag-embedment'\n",
      "UHC input: 986112.7710000001 -- Mass: 3142.6222622981654\n",
      "INFO: 'drag-embedment' anchor mass set to 3142.622 kg for load direction 'horizontal' and soil type 'soft clay'\n",
      "--------- Cost Report (2024$) ---------\n",
      "System Parameters\n",
      "    Water Depth: 200.000 m\n",
      "Line Parameters\n",
      "    Material   : chain\n",
      "    Number     : 3\n",
      "    Length     : 1090.836 m\n",
      "    Diameter   : 0.042 m\n",
      "    design load: 986.113 kN\n",
      "Anchor Parameters\n",
      "    Type       : drag-embedment\n",
      "    Number     : 3\n",
      "    Mass       : 3142.622 kg\n",
      "    Soil type  : soft clay\n",
      "Buoyancy Module Parameters\n",
      "--------------------------------------\n",
      "Anchor cost     : $ 39137.90  |  5.0%\n",
      "Line cost       : $ 684766.41  |  87.4%\n",
      "Buoy cost       : $ 0.00  |  0.0%\n",
      "Connection cost : $ 59868.14  |  7.6%\n",
      "Total cost      : $ 783772.45  |  100.0%\n",
      "---------------------------------------\n"
     ]
    }
   ],
   "source": [
    "# A2\n",
    "\n",
    "import model_draft3 as model_draft\n",
    "\n",
    "# initialize\n",
    "model = model_draft.model()\n",
    "model.load_database()\n",
    "\n",
    "# Line Table Headers: \"Num of these lines\", \"Line material (chain, polyester, nylon, wire, hmpe)\", \"Diameter (m)\", \"Factor of Safety\", \"Length (m)\", \"Anchor load direction (none, horizontal, both, vertical)\", \"Number of anchors per line\", \"Num connections per line (ensure not double counting)\"\n",
    "Line_table = [[3,\"chain\",0.042,2,1090.836,\"horizontal\",1, 2]]\n",
    "\n",
    "# # Buoy table headers: \"Num of these buoys\", \"Buoyancy (kN)\"\n",
    "# Buoy_table = [[3,10],[3,25]]\n",
    "Buoy_table = []\n",
    "\n",
    "model.set_paramsA2(Line_Table=Line_table, soil_type=\"soft clay\",depth=200,Buoy_Table=Buoy_table)\n",
    "\n",
    "model.calc_cost()"
   ]
  },
  {
   "cell_type": "code",
   "execution_count": 9,
   "metadata": {},
   "outputs": [
    {
     "name": "stdout",
     "output_type": "stream",
     "text": [
      "INFO: Using full user provided parameters\n",
      "--------- Cost Report (2024$) ---------\n",
      "System Parameters\n",
      "    Water Depth: 200.000 m\n",
      "Line Parameters\n",
      "    Material   : chain\n",
      "    Number     : 3\n",
      "    Length     : 1090.836 m\n",
      "    Diameter   : 0.042 m\n",
      "    design load: 986.113 kN\n",
      "Anchor Parameters\n",
      "    Type       : drag-embedment\n",
      "    Number     : 3\n",
      "    Mass       : 3142.622 kg\n",
      "    Soil type  : soft clay\n",
      "Buoyancy Module Parameters\n",
      "--------------------------------------\n",
      "Anchor cost     : $ 39137.90  |  5.0%\n",
      "Line cost       : $ 684766.41  |  87.4%\n",
      "Buoy cost       : $ 0.00  |  0.0%\n",
      "Connection cost : $ 59868.14  |  7.6%\n",
      "Total cost      : $ 783772.45  |  100.0%\n",
      "---------------------------------------\n"
     ]
    }
   ],
   "source": [
    "# A3\n",
    "\n",
    "import model_draft3 as model_draft\n",
    "\n",
    "# initialize\n",
    "model = model_draft.model()\n",
    "model.load_database()\n",
    "\n",
    "# Line Table Headers: \"Num of these lines\", \"Line material (chain, polyester, nylon, wire, hmpe)\", \"Diameter (m)\", \"Factor of Safety\", \"Length (m)\", \"Num connections (ensure not double counting)\"\n",
    "Line_table = [[3,\"chain\",0.042,2,1090.836, 2]]\n",
    "\n",
    "# Anchor Table Headers: \"Num of these anchors\", \"Anchor type (drag-embedment, gravity, VLA, SEPLA, suction)\", \"Mass (kg)\", \"Soil type (soft clay, medium clay, hard clay, sand)\"\n",
    "Anchor_table = [[3,\"drag-embedment\", 3142.622, \"soft clay\"]]\n",
    "\n",
    "# # Buoy table headers: \"Num of these buoys\", \"Buoyancy (kN)\"\n",
    "# Buoy_table = [[3,10],[3,25]]\n",
    "Buoy_table = []\n",
    "\n",
    "model.set_paramsA3(Line_Table=Line_table,Anchor_Table=Anchor_table,depth=200,Buoy_Table=Buoy_table)\n",
    "\n",
    "model.calc_cost()"
   ]
  }
 ],
 "metadata": {
  "kernelspec": {
   "display_name": "base",
   "language": "python",
   "name": "python3"
  },
  "language_info": {
   "codemirror_mode": {
    "name": "ipython",
    "version": 3
   },
   "file_extension": ".py",
   "mimetype": "text/x-python",
   "name": "python",
   "nbconvert_exporter": "python",
   "pygments_lexer": "ipython3",
   "version": "3.11.8"
  }
 },
 "nbformat": 4,
 "nbformat_minor": 2
}
