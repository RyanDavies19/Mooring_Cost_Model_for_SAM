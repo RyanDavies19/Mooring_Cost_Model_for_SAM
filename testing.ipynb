{
 "cells": [
  {
   "cell_type": "code",
   "execution_count": 1,
   "metadata": {},
   "outputs": [],
   "source": [
    "import moorpy.helpers as helpers"
   ]
  },
  {
   "cell_type": "markdown",
   "metadata": {},
   "source": [
    "**New PointProps Method**"
   ]
  },
  {
   "cell_type": "code",
   "execution_count": 2,
   "metadata": {},
   "outputs": [
    {
     "name": "stdout",
     "output_type": "stream",
     "text": [
      "{'AnchorProps': {'drag-embedment': {'matcost_m': 4.1513, 'matcost_m2': 0.0, 'matcost_m3': 0.0, 'matcost_a': 0.0, 'matcost_a2': 0.0, 'matcost_a3': 0.0, 'matcost': 0.0, 'instcost_m': 0.0, 'instcost_m2': 0.0, 'instcost_m3': 0.0, 'instcost_a': 0.0, 'instcost_a2': 0.0, 'instcost_a3': 0.0, 'instcost': 0.0, 'decomcost_m': 0.0, 'decomcost_m2': 0.0, 'decomcost_m3': 0.0, 'decomcost_a': 0.0, 'decomcost_a2': 0.0, 'decomcost_a3': 0.0, 'decomcost': 0.0}, 'gravity': {'matcost_m': 0.57611, 'matcost_m2': 0.0, 'matcost_m3': 0.0, 'matcost_a': 0.0, 'matcost_a2': 0.0, 'matcost_a3': 0.0, 'matcost': 0.0, 'instcost_m': 0.0, 'instcost_m2': 0.0, 'instcost_m3': 0.0, 'instcost_a': 0.0, 'instcost_a2': 0.0, 'instcost_a3': 0.0, 'instcost': 0.0, 'decomcost_m': 0.0, 'decomcost_m2': 0.0, 'decomcost_m3': 0.0, 'decomcost_a': 0.0, 'decomcost_a2': 0.0, 'decomcost_a3': 0.0, 'decomcost': 0.0}, 'suction': {'matcost_m': 10.25, 'matcost_m2': 0.0, 'matcost_m3': 0.0, 'matcost_a': 0.0, 'matcost_a2': 0.0, 'matcost_a3': 0.0, 'matcost': 0.0, 'instcost_m': 0.0, 'instcost_m2': 0.0, 'instcost_m3': 0.0, 'instcost_a': 0.0, 'instcost_a2': 0.0, 'instcost_a3': 0.0, 'instcost': 0.0, 'decomcost_m': 0.0, 'decomcost_m2': 0.0, 'decomcost_m3': 0.0, 'decomcost_a': 0.0, 'decomcost_a2': 0.0, 'decomcost_a3': 0.0, 'decomcost': 0.0}, 'SEPLA': {'matcost_m': 7.1064, 'matcost_m2': 0.0, 'matcost_m3': 0.0, 'matcost_a': 0.0, 'matcost_a2': 0.0, 'matcost_a3': 0.0, 'matcost': 0.0, 'instcost_m': 0.0, 'instcost_m2': 0.0, 'instcost_m3': 0.0, 'instcost_a': 0.0, 'instcost_a2': 0.0, 'instcost_a3': 0.0, 'instcost': 0.0, 'decomcost_m': 0.0, 'decomcost_m2': 0.0, 'decomcost_m3': 0.0, 'decomcost_a': 0.0, 'decomcost_a2': 0.0, 'decomcost_a3': 0.0, 'decomcost': 0.0}, 'VLA': {'matcost_m': 0.0, 'matcost_m2': 0.0, 'matcost_m3': 0.0, 'matcost_a': 16420.0, 'matcost_a2': 0.0, 'matcost_a3': 0.0, 'matcost': 0.0, 'instcost_m': 0.0, 'instcost_m2': 0.0, 'instcost_m3': 0.0, 'instcost_a': 0.0, 'instcost_a2': 0.0, 'instcost_a3': 0.0, 'instcost': 0.0, 'decomcost_m': 0.0, 'decomcost_m2': 0.0, 'decomcost_m3': 0.0, 'decomcost_a': 0.0, 'decomcost_a2': 0.0, 'decomcost_a3': 0.0, 'decomcost': 0.0}, 'driven': {'matcost_m': 3.8136, 'matcost_m2': 0.0, 'matcost_m3': 0.0, 'matcost_a': 0.0, 'matcost_a2': 0.0, 'matcost_a3': 0.0, 'matcost': 0.0, 'instcost_m': 0.0, 'instcost_m2': 0.0, 'instcost_m3': 0.0, 'instcost_a': 0.0, 'instcost_a2': 0.0, 'instcost_a3': 0.0, 'instcost': 0.0, 'decomcost_m': 0.0, 'decomcost_m2': 0.0, 'decomcost_m3': 0.0, 'decomcost_a': 0.0, 'decomcost_a2': 0.0, 'decomcost_a3': 0.0, 'decomcost': 0.0}}, 'BuoyProps': {'general': {'cost_b0': 0.0, 'cost_b1': 527.61, 'cost_b2': -1.1863, 'cost_b3': 0.0}}, 'ConnectProps': {'shackle': {'FOS': 6.0, 'cost_MBL0': 0.0, 'cost_MBL1': 0.22821, 'cost_MBL2': 0.0, 'cost_MBL3': 0.0}, 'connector': {'FOS': 6.0, 'cost_MBL0': 0.0, 'cost_MBL1': 0.18151, 'cost_MBL2': 0.0, 'cost_MBL3': 0.0}, 'swivel': {'FOS': 5.0, 'cost_MBL0': 0.0, 'cost_MBL1': 0.91024, 'cost_MBL2': 0.0, 'cost_MBL3': 0.0}, 'triplate': {'FOS': 5.0, 'cost_MBL0': 0.0, 'cost_MBL1': 0.40647, 'cost_MBL2': 0.0, 'cost_MBL3': 0.0}, 'h-link': {'FOS': 4.0, 'cost_MBL0': 0.0, 'cost_MBL1': 22.267, 'cost_MBL2': 0.0, 'cost_MBL3': 0.0}, 'misc': {'FOS': 5.0, 'cost_MBL0': 0.0, 'cost_MBL1': 0.19975, 'cost_MBL2': 0.0, 'cost_MBL3': 0.0}}, 'DesignProps': {'general': {'num_c_shackle': 2.0, 'num_c_misc': 1.0}}}\n",
      "{'name': 'general', 'Anchors': False, 'Buoys': False, 'Connections': True, 'anchor_list': [], 'aprops': {}, 'buoy_cost': {'cost_b0': 0.0, 'cost_b1': 0.0, 'cost_b2': 0.0, 'cost_b3': 0.0}, 'connector_cost': {'cost_load0': 0.0, 'cost_load1': 3.7372699999999996, 'cost_load2': 0.0, 'cost_load3': 0.0}, 'FOS': 6.0, 'info': {}}\n"
     ]
    }
   ],
   "source": [
    "# new method\n",
    "PointProps = helpers.loadPointProps(None)\n",
    "print(PointProps)\n",
    "out_dict = helpers.getPointProps(design = 'general', Props=PointProps)\n",
    "print(out_dict)\n"
   ]
  },
  {
   "cell_type": "markdown",
   "metadata": {},
   "source": [
    "**getCost_and_MBL testing**"
   ]
  },
  {
   "cell_type": "code",
   "execution_count": 3,
   "metadata": {},
   "outputs": [
    {
     "name": "stdout",
     "output_type": "stream",
     "text": [
      "UHC input: fx:0.0 fz:1000000 -- Mass: 3286.785456995938, Area: 3.08\n",
      "Cost:  50573.6\n",
      "MBL :  2000000.0\n",
      "Info: \n",
      " {'Anchors - anchorMatCost': 50573.6, 'Anchors - anchorInstCost': 0.0, 'Anchors - anchorDecomCost': 0.0, 'Anchors - getAnchorCost info': {'UHC': 2000000.0, 'Mass': 3286.785456995938, 'Area': 3.08, 'Notes': 'A cost of zero indicates respective cost curve not provided for the anchor type VLA'}}\n"
     ]
    }
   ],
   "source": [
    "import moorpy as mp\n",
    "ms = mp.System()\n",
    "\n",
    "# make a design\n",
    "design = {\"num_a_VLA\" : 1} # use the general design from PointProps_default\n",
    "pointType = ms.setPointType(design)\n",
    "\n",
    "# make a point w/ design\n",
    "point = mp.Point(ms, 1, 0, [0,0,0], typeData = pointType, m = 10) # 0,0,0 location is dummy variable to make error checks happy\n",
    "\n",
    "# getCost_and_MBL\n",
    "cost, MBL, info = point.getCost_and_MBL(fz=1000000)\n",
    "\n",
    "print(\"Cost: \", cost)\n",
    "print(\"MBL : \", MBL)\n",
    "print(\"Info: \\n\",info)\n"
   ]
  },
  {
   "cell_type": "markdown",
   "metadata": {},
   "source": [
    "**AnchorProps Testing**"
   ]
  },
  {
   "cell_type": "code",
   "execution_count": 4,
   "metadata": {},
   "outputs": [
    {
     "name": "stdout",
     "output_type": "stream",
     "text": [
      "{'name': 'anchor', 'Anchors': True, 'Buoys': False, 'Connections': False, 'anchor_list': [{'name': 'SEPLA', 'num': 1.0, 'frac': 1.0}], 'aprops': {'SEPLA': {'matcost_m': 7.1064, 'matcost_m2': 0.0, 'matcost_m3': 0.0, 'matcost_a': 0.0, 'matcost_a2': 0.0, 'matcost_a3': 0.0, 'matcost': 0.0, 'instcost_m': 0.0, 'instcost_m2': 0.0, 'instcost_m3': 0.0, 'instcost_a': 0.0, 'instcost_a2': 0.0, 'instcost_a3': 0.0, 'instcost': 0.0, 'decomcost_m': 0.0, 'decomcost_m2': 0.0, 'decomcost_m3': 0.0, 'decomcost_a': 0.0, 'decomcost_a2': 0.0, 'decomcost_a3': 0.0, 'decomcost': 0.0}}, 'buoy_cost': {'cost_b0': 0.0, 'cost_b1': 0.0, 'cost_b2': 0.0, 'cost_b3': 0.0}, 'connector_cost': {'cost_load0': 0.0, 'cost_load1': 0.0, 'cost_load2': 0.0, 'cost_load3': 0.0}, 'FOS': 0.0, 'info': {}}\n"
     ]
    }
   ],
   "source": [
    "# overwrite structure in self.PointProps. Most basic struture that gives anchor data from PointProps_default.yaml to find costs with getPointProps\n",
    "PointProps = helpers.loadPointProps(None)\n",
    "aProps = PointProps[\"AnchorProps\"]\n",
    "a_type = \"SEPLA\"\n",
    "\n",
    "props = dict(DesignProps = dict(anchor = {f\"num_a_{a_type}\" : 1}), AnchorProps = aProps, BuoyProps = dict(placeholder = \"placeholder\"), ConnectProps = dict(placeholder = \"placeholder\")) # this is a dummy PointProps starting point that mimics a PointProps yaml. Passing it to loadPointProps will initialize all the unused variables that are needed for the code.\n",
    "MP_data = helpers.getPointProps(design = \"anchor\", Props = helpers.loadPointProps(props))\n",
    "print(MP_data)\n"
   ]
  },
  {
   "cell_type": "markdown",
   "metadata": {},
   "source": [
    "**GetLineProps**"
   ]
  },
  {
   "cell_type": "code",
   "execution_count": 5,
   "metadata": {},
   "outputs": [],
   "source": [
    "props = helpers.loadLineProps(None)\n",
    "\n",
    "# # new method\n",
    "# out_dict = helpers.getLineProps(51 , \"hmpe\", source=\"/Users/rdavies/work/MoorPy_ryan/moorpy/MoorProps_newCosts.yaml\")\n",
    "# print(out_dict)\n",
    "\n"
   ]
  },
  {
   "cell_type": "markdown",
   "metadata": {},
   "source": [
    "**Example YAML loading**"
   ]
  },
  {
   "cell_type": "code",
   "execution_count": 6,
   "metadata": {},
   "outputs": [
    {
     "name": "stdout",
     "output_type": "stream",
     "text": [
      "{lineProps : \n",
      "   {chain : \n",
      "      {'mass_d2': '20.0e3', 'EA_d3': '-3.93e7', 'EA_d2': '85.6e9', 'MBL_d3': '-2.19e9', 'MBL_d2': '1.21e9', 'MBL_d': '9.11e2', 'dvol_dnom': 1.8, 'cost_mass': 2.585, 'Cd': 1.333, 'Cd_ax': 0.639, 'Ca': 1.0, 'Ca_ax': 0.5}}\n",
      "   {chain_studlink : \n",
      "      {'mass_d2': '21.9e3', 'EA_d2': '88.0e9', 'MBL_d3': '-2.19e9', 'MBL_d2': '1.21e9', 'MBL_d': '9.11e2', 'dvol_dnom': 1.89, 'cost_mass': 2.585, 'Cd': 1.376, 'Cd_ax': 0.741, 'Ca': 1.0, 'Ca_ax': 0.5}}\n",
      "   {wire : \n",
      "      {'mass_d2': 5293, 'dvol_dnom': 1.18, 'MBL_d2': '1022e6', 'EA_d2': '97.1e9', 'Cd': 1.021, 'cost_MBL': 1.2e-05}}\n",
      "   {polyester : \n",
      "      {'mass_d2': 679, 'MBL_d2': '308e6', 'EA_MBL': 14, 'EAd_MBL': 11.6, 'EAd_MBL_Lm': 40.0, 'density': 1380, 'cost_MBL': 1.65e-05, 'Cd': 2.021, 'Ca': 1.1, 'Ca_ax': 0.15}}\n",
      "   {nylon : \n",
      "      {'mass_d2': 585, 'MBL_d3': '230e6', 'MBL_d2': '207e6', 'EA_MBL': 5, 'EAd_MBL': 2.08, 'EAd_MBL_Lm': 39.0, 'density': 1140, 'cost_MBL': 4.29e-05, 'Cd': 1.979, 'Ca': 1.1, 'Ca_ax': 0.15}}\n",
      "   {hmpe : \n",
      "      {'mass_d2': 496, 'MBL_d3': '651e6', 'MBL_d2': '580e6', 'EA_MBL': 56, 'EAd_MBL': 59, 'EAd_MBL_Lm': 54.0, 'density': 975, 'Cd': 1.988, 'Ca': 1.1, 'Ca_ax': 0.15, 'cost_MBL': 0.00014}}\n"
     ]
    }
   ],
   "source": [
    "import yaml\n",
    "\n",
    "source = \"/Users/rdavies/work/MoorPy_ryan/moorpy/MoorProps_default.yaml\"\n",
    "with open(source) as file:\n",
    "    source = yaml.load(file, Loader=yaml.FullLoader)\n",
    "\n",
    "for key in source.keys():\n",
    "    print(\"{\"+key+\" : \")\n",
    "    subdict = source[key]\n",
    "    for subkey in subdict:\n",
    "        print(\"   {\"+subkey+\" : \")\n",
    "        print(\"      \"+str(subdict[subkey])+\"}\")"
   ]
  },
  {
   "cell_type": "markdown",
   "metadata": {},
   "source": [
    "**Model Test Stuff**"
   ]
  },
  {
   "cell_type": "code",
   "execution_count": 7,
   "metadata": {},
   "outputs": [
    {
     "name": "stdout",
     "output_type": "stream",
     "text": [
      "Point Props\n",
      "{'AnchorProps': {'drag-embedment': {'matcost_m': 4.1513, 'matcost_m2': 0.0, 'matcost_m3': 0.0, 'matcost_a': 0.0, 'matcost_a2': 0.0, 'matcost_a3': 0.0, 'matcost': 0.0, 'instcost_m': 0.0, 'instcost_m2': 0.0, 'instcost_m3': 0.0, 'instcost_a': 0.0, 'instcost_a2': 0.0, 'instcost_a3': 0.0, 'instcost': 0.0, 'decomcost_m': 0.0, 'decomcost_m2': 0.0, 'decomcost_m3': 0.0, 'decomcost_a': 0.0, 'decomcost_a2': 0.0, 'decomcost_a3': 0.0, 'decomcost': 0.0}, 'gravity': {'matcost_m': 0.57611, 'matcost_m2': 0.0, 'matcost_m3': 0.0, 'matcost_a': 0.0, 'matcost_a2': 0.0, 'matcost_a3': 0.0, 'matcost': 0.0, 'instcost_m': 0.0, 'instcost_m2': 0.0, 'instcost_m3': 0.0, 'instcost_a': 0.0, 'instcost_a2': 0.0, 'instcost_a3': 0.0, 'instcost': 0.0, 'decomcost_m': 0.0, 'decomcost_m2': 0.0, 'decomcost_m3': 0.0, 'decomcost_a': 0.0, 'decomcost_a2': 0.0, 'decomcost_a3': 0.0, 'decomcost': 0.0}, 'suction': {'matcost_m': 10.25, 'matcost_m2': 0.0, 'matcost_m3': 0.0, 'matcost_a': 0.0, 'matcost_a2': 0.0, 'matcost_a3': 0.0, 'matcost': 0.0, 'instcost_m': 0.0, 'instcost_m2': 0.0, 'instcost_m3': 0.0, 'instcost_a': 0.0, 'instcost_a2': 0.0, 'instcost_a3': 0.0, 'instcost': 0.0, 'decomcost_m': 0.0, 'decomcost_m2': 0.0, 'decomcost_m3': 0.0, 'decomcost_a': 0.0, 'decomcost_a2': 0.0, 'decomcost_a3': 0.0, 'decomcost': 0.0}, 'SEPLA': {'matcost_m': 7.1064, 'matcost_m2': 0.0, 'matcost_m3': 0.0, 'matcost_a': 0.0, 'matcost_a2': 0.0, 'matcost_a3': 0.0, 'matcost': 0.0, 'instcost_m': 0.0, 'instcost_m2': 0.0, 'instcost_m3': 0.0, 'instcost_a': 0.0, 'instcost_a2': 0.0, 'instcost_a3': 0.0, 'instcost': 0.0, 'decomcost_m': 0.0, 'decomcost_m2': 0.0, 'decomcost_m3': 0.0, 'decomcost_a': 0.0, 'decomcost_a2': 0.0, 'decomcost_a3': 0.0, 'decomcost': 0.0}, 'VLA': {'matcost_m': 0.0, 'matcost_m2': 0.0, 'matcost_m3': 0.0, 'matcost_a': 16420.0, 'matcost_a2': 0.0, 'matcost_a3': 0.0, 'matcost': 0.0, 'instcost_m': 0.0, 'instcost_m2': 0.0, 'instcost_m3': 0.0, 'instcost_a': 0.0, 'instcost_a2': 0.0, 'instcost_a3': 0.0, 'instcost': 0.0, 'decomcost_m': 0.0, 'decomcost_m2': 0.0, 'decomcost_m3': 0.0, 'decomcost_a': 0.0, 'decomcost_a2': 0.0, 'decomcost_a3': 0.0, 'decomcost': 0.0}, 'driven': {'matcost_m': 3.8136, 'matcost_m2': 0.0, 'matcost_m3': 0.0, 'matcost_a': 0.0, 'matcost_a2': 0.0, 'matcost_a3': 0.0, 'matcost': 0.0, 'instcost_m': 0.0, 'instcost_m2': 0.0, 'instcost_m3': 0.0, 'instcost_a': 0.0, 'instcost_a2': 0.0, 'instcost_a3': 0.0, 'instcost': 0.0, 'decomcost_m': 0.0, 'decomcost_m2': 0.0, 'decomcost_m3': 0.0, 'decomcost_a': 0.0, 'decomcost_a2': 0.0, 'decomcost_a3': 0.0, 'decomcost': 0.0}}, 'BuoyProps': {'general': {'cost_b0': 0.0, 'cost_b1': 527.61, 'cost_b2': -1.1863, 'cost_b3': 0.0}}, 'ConnectProps': {'shackle': {'FOS': 6.0, 'cost_MBL0': 0.0, 'cost_MBL1': 0.22821, 'cost_MBL2': 0.0, 'cost_MBL3': 0.0}, 'connector': {'FOS': 6.0, 'cost_MBL0': 0.0, 'cost_MBL1': 0.18151, 'cost_MBL2': 0.0, 'cost_MBL3': 0.0}, 'swivel': {'FOS': 5.0, 'cost_MBL0': 0.0, 'cost_MBL1': 0.91024, 'cost_MBL2': 0.0, 'cost_MBL3': 0.0}, 'triplate': {'FOS': 5.0, 'cost_MBL0': 0.0, 'cost_MBL1': 0.40647, 'cost_MBL2': 0.0, 'cost_MBL3': 0.0}, 'h-link': {'FOS': 4.0, 'cost_MBL0': 0.0, 'cost_MBL1': 22.267, 'cost_MBL2': 0.0, 'cost_MBL3': 0.0}, 'misc': {'FOS': 5.0, 'cost_MBL0': 0.0, 'cost_MBL1': 0.19975, 'cost_MBL2': 0.0, 'cost_MBL3': 0.0}}, 'DesignProps': {'general': {'num_c_shackle': 2.0, 'num_c_misc': 1.0}}}\n",
      "WARNING: Multiple diameters found to produce MBL of 2000000 N. Diameter set to smallest, 0.042 m\n",
      "INFO: Line type 'chain' diameter set to 0.042 m corresponding to MBL of 1000000.000 N\n",
      "INFO: Anchor type set to 'drag-embedment'\n",
      "UHC input: 1000000 -- Mass: 3190.2354622445437\n",
      "INFO: 'drag-embedment' anchor mass set to 3190.235 kg for load direction 'horizontal' and soil type 'soft clay'\n",
      "--------- Cost Report (2024$) ---------\n",
      "System Parameters\n",
      "    Water Depth: 200.000 m\n",
      "Line Parameters\n",
      "    Material   : chain\n",
      "    Number     : 3\n",
      "    Length     : 1141.868 m\n",
      "    Diameter   : 0.042 m\n",
      "    design load: 1000.000 kN\n",
      "Anchor Parameters\n",
      "    Type       : drag-embedment\n",
      "    Number     : 3\n",
      "    Mass       : 3190.235 kg\n",
      "    Soil type  : soft clay\n",
      "Buoyancy Module Parameters\n",
      "--------------------------------------\n",
      "Anchor cost     : $ 39730.87  |  7.5%\n",
      "Line cost       : $ 479449.68  |  91.0%\n",
      "Buoy cost       : $ 0.00  |  0.0%\n",
      "Connection cost : $ 7474.54  |  1.4%\n",
      "Total cost      : $ 526655.09  |  100.0%\n",
      "---------------------------------------\n"
     ]
    }
   ],
   "source": [
    "# A0\n",
    "\n",
    "import model_draft3 as model_draft\n",
    "\n",
    "# initialize\n",
    "model = model_draft.model()\n",
    "model.load_database()\n",
    "print(\"Point Props\")\n",
    "print(model.backend.ms.pointProps)\n",
    "\n",
    "model.set_paramsA0()\n",
    "\n",
    "model.calc_cost()"
   ]
  },
  {
   "cell_type": "code",
   "execution_count": 8,
   "metadata": {},
   "outputs": [
    {
     "name": "stdout",
     "output_type": "stream",
     "text": [
      "INFO: Using SAM level user provided parameters\n",
      "WARNING: Multiple diameters found to produce MBL of 2000000 N. Diameter set to smallest, 0.042 m\n",
      "INFO: Line type 'chain' diameter set to 0.042 m corresponding to MBL of 1000000.000 N\n",
      "INFO: Anchor type set to 'drag-embedment'\n",
      "UHC input: 1000000 -- Mass: 3190.2354622445437\n",
      "INFO: 'drag-embedment' anchor mass set to 3190.235 kg for load direction 'horizontal' and soil type 'soft clay'\n",
      "--------- Cost Report (2024$) ---------\n",
      "System Parameters\n",
      "    Water Depth: 200.000 m\n",
      "Line Parameters\n",
      "    Material   : chain\n",
      "    Number     : 3\n",
      "    Length     : 1141.868 m\n",
      "    Diameter   : 0.042 m\n",
      "    design load: 1000.000 kN\n",
      "Anchor Parameters\n",
      "    Type       : drag-embedment\n",
      "    Number     : 3\n",
      "    Mass       : 3190.235 kg\n",
      "    Soil type  : soft clay\n",
      "Buoyancy Module Parameters\n",
      "--------------------------------------\n",
      "Anchor cost     : $ 39730.87  |  7.5%\n",
      "Line cost       : $ 479449.68  |  91.0%\n",
      "Buoy cost       : $ 0.00  |  0.0%\n",
      "Connection cost : $ 7474.54  |  1.4%\n",
      "Total cost      : $ 526655.09  |  100.0%\n",
      "---------------------------------------\n"
     ]
    }
   ],
   "source": [
    "# A1\n",
    "\n",
    "import model_draft3 as model_draft\n",
    "\n",
    "# initialize\n",
    "model = model_draft.model()\n",
    "model.load_database()\n",
    "\n",
    "# # Buoy table headers: \"Num of these buoys\", \"Buoyancy (kN)\"\n",
    "# Buoy_table = [[3,10],[3,25]]\n",
    "Buoy_table = []\n",
    "\n",
    "model.set_paramsA1(shape=\"catenary\",depth=200,soil_type=\"soft clay\", design_load=1000, Buoy_Table=Buoy_table)\n",
    "\n",
    "model.calc_cost()"
   ]
  },
  {
   "cell_type": "code",
   "execution_count": 9,
   "metadata": {},
   "outputs": [
    {
     "name": "stdout",
     "output_type": "stream",
     "text": [
      "INFO: Using MoorDyn level parameters. 1 different line types\n",
      "INFO: Anchor type set to 'drag-embedment'\n",
      "UHC input: 986112.7710000001 -- Mass: 3142.6222622981654\n",
      "INFO: 'drag-embedment' anchor mass set to 3142.622 kg for load direction 'horizontal' and soil type 'soft clay'\n",
      "--------- Cost Report (2024$) ---------\n",
      "System Parameters\n",
      "    Water Depth: 200.000 m\n",
      "Line Parameters\n",
      "    Material   : chain\n",
      "    Number     : 3\n",
      "    Length     : 1090.836 m\n",
      "    Diameter   : 0.042 m\n",
      "    design load: 986.113 kN\n",
      "Anchor Parameters\n",
      "    Type       : drag-embedment\n",
      "    Number     : 3\n",
      "    Mass       : 3142.622 kg\n",
      "    Soil type  : soft clay\n",
      "Buoyancy Module Parameters\n",
      "--------------------------------------\n",
      "Anchor cost     : $ 39137.90  |  7.9%\n",
      "Line cost       : $ 451078.00  |  90.7%\n",
      "Buoy cost       : $ 0.00  |  0.0%\n",
      "Connection cost : $ 7370.74  |  1.5%\n",
      "Total cost      : $ 497586.64  |  100.0%\n",
      "---------------------------------------\n"
     ]
    }
   ],
   "source": [
    "# A2\n",
    "\n",
    "import model_draft3 as model_draft\n",
    "\n",
    "# initialize\n",
    "model = model_draft.model()\n",
    "model.load_database()\n",
    "\n",
    "# Line Table Headers: \"Num of these lines\", \"Line material (chain, polyester, nylon, wire, hmpe)\", \"Diameter (m)\", \"Factor of Safety\", \"Length (m)\", \"Anchor load direction (none, horizontal, both, vertical)\", \"Number of anchors per line\", \"Num connections per line (ensure not double counting)\"\n",
    "Line_table = [[3,\"chain\",0.042,2,1090.836,\"horizontal\",1, 2]]\n",
    "\n",
    "# # Buoy table headers: \"Num of these buoys\", \"Buoyancy (kN)\"\n",
    "# Buoy_table = [[3,10],[3,25]]\n",
    "Buoy_table = []\n",
    "\n",
    "model.set_paramsA2(Line_Table=Line_table, soil_type=\"soft clay\",depth=200,Buoy_Table=Buoy_table)\n",
    "\n",
    "model.calc_cost()"
   ]
  },
  {
   "cell_type": "code",
   "execution_count": 10,
   "metadata": {},
   "outputs": [
    {
     "name": "stdout",
     "output_type": "stream",
     "text": [
      "INFO: Using full user provided parameters\n",
      "--------- Cost Report (2024$) ---------\n",
      "System Parameters\n",
      "    Water Depth: 200.000 m\n",
      "Line Parameters\n",
      "    Material   : chain\n",
      "    Number     : 3\n",
      "    Length     : 1090.836 m\n",
      "    Diameter   : 0.042 m\n",
      "    design load: 986.113 kN\n",
      "Anchor Parameters\n",
      "    Type       : drag-embedment\n",
      "    Number     : 3\n",
      "    Mass       : 3142.622 kg\n",
      "    Soil type  : soft clay\n",
      "Buoyancy Module Parameters\n",
      "--------------------------------------\n",
      "Anchor cost     : $ 39137.90  |  7.9%\n",
      "Line cost       : $ 451078.00  |  90.7%\n",
      "Buoy cost       : $ 0.00  |  0.0%\n",
      "Connection cost : $ 7370.74  |  1.5%\n",
      "Total cost      : $ 497586.64  |  100.0%\n",
      "---------------------------------------\n"
     ]
    }
   ],
   "source": [
    "# A3\n",
    "\n",
    "import model_draft3 as model_draft\n",
    "\n",
    "# initialize\n",
    "model = model_draft.model()\n",
    "model.load_database()\n",
    "\n",
    "# Line Table Headers: \"Num of these lines\", \"Line material (chain, polyester, nylon, wire, hmpe)\", \"Diameter (m)\", \"Factor of Safety\", \"Length (m)\", \"Num connections (ensure not double counting)\"\n",
    "Line_table = [[3,\"chain\",0.042,2,1090.836, 2]]\n",
    "\n",
    "# Anchor Table Headers: \"Num of these anchors\", \"Anchor type (drag-embedment, gravity, VLA, SEPLA, suction)\", \"Mass (kg) [Unused if VLA]\", \"Area (m^2) [For VLA]\" \"Soil type (soft clay, medium clay, hard clay, sand)\"\n",
    "Anchor_table = [[3,\"drag-embedment\", 3142.622, 0, \"soft clay\"]]\n",
    "\n",
    "# # Buoy table headers: \"Num of these buoys\", \"Buoyancy (kN)\"\n",
    "# Buoy_table = [[3,10],[3,25]]\n",
    "Buoy_table = []\n",
    "\n",
    "model.set_paramsA3(Line_Table=Line_table,Anchor_Table=Anchor_table,depth=200,Buoy_Table=Buoy_table)\n",
    "\n",
    "model.calc_cost()"
   ]
  }
 ],
 "metadata": {
  "kernelspec": {
   "display_name": "base",
   "language": "python",
   "name": "python3"
  },
  "language_info": {
   "codemirror_mode": {
    "name": "ipython",
    "version": 3
   },
   "file_extension": ".py",
   "mimetype": "text/x-python",
   "name": "python",
   "nbconvert_exporter": "python",
   "pygments_lexer": "ipython3",
   "version": "3.11.8"
  }
 },
 "nbformat": 4,
 "nbformat_minor": 2
}
