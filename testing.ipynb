{
 "cells": [
  {
   "cell_type": "code",
   "execution_count": 1,
   "metadata": {},
   "outputs": [],
   "source": [
    "import moorpy.helpers as helpers"
   ]
  },
  {
   "cell_type": "markdown",
   "metadata": {},
   "source": [
    "**Legacy PointProps Method**"
   ]
  },
  {
   "cell_type": "code",
   "execution_count": 2,
   "metadata": {},
   "outputs": [
    {
     "name": "stdout",
     "output_type": "stream",
     "text": [
      "{'type': 'old_approach', 'm': 100000.0, 'v': 0.0, 'mbl': None, 'cost': None}\n"
     ]
    }
   ],
   "source": [
    "# legacy method\n",
    "out_dict = helpers.getPointProps(weight = 100)\n",
    "print(out_dict)\n"
   ]
  },
  {
   "cell_type": "markdown",
   "metadata": {},
   "source": [
    "**New PointProps Method**"
   ]
  },
  {
   "cell_type": "code",
   "execution_count": 3,
   "metadata": {},
   "outputs": [
    {
     "name": "stdout",
     "output_type": "stream",
     "text": [
      "{'type': 'general', 'm': 0.0, 'v': 0.0, 'mbl': 6000.0, 'cost': 40.5308389789064}\n"
     ]
    }
   ],
   "source": [
    "# new method\n",
    "pointprops = helpers.loadPointProps(None)\n",
    "out_dict = helpers.getPointProps(Type = 'general', design_load=1000, Props=pointprops)\n",
    "print(out_dict)"
   ]
  },
  {
   "cell_type": "markdown",
   "metadata": {},
   "source": [
    "**GetLineProps**"
   ]
  },
  {
   "cell_type": "code",
   "execution_count": 4,
   "metadata": {},
   "outputs": [
    {
     "name": "stdout",
     "output_type": "stream",
     "text": [
      "{'name': 'hmpe51', 'd_vol': 0.041045331333934516, 'm': 1.2900960000000001, 'EA': 89316404.856, 'w': -0.6490175261538507, 'MBL': 1594935.8010000002, 'EAd': 94101212.25900002, 'EAd_Lm': 54.0, 'input_d': 0.051000000000000004, 'cost': 170.22984000000008, 'notes': 'made with getLineProps', 'material': 'hmpe', 'Cd': 1.988, 'CdAx': 0.0, 'Ca': 1.1, 'CaAx': 0.15}\n"
     ]
    }
   ],
   "source": [
    "# new method\n",
    "out_dict = helpers.getLineProps(51 , \"hmpe\", source=\"/Users/rdavies/work/MoorPy_ryan/moorpy/MoorProps_newCosts.yaml\")\n",
    "print(out_dict)"
   ]
  },
  {
   "cell_type": "markdown",
   "metadata": {},
   "source": []
  },
  {
   "cell_type": "markdown",
   "metadata": {},
   "source": [
    "**Model Test Stuff**"
   ]
  },
  {
   "cell_type": "code",
   "execution_count": 5,
   "metadata": {},
   "outputs": [
    {
     "name": "stdout",
     "output_type": "stream",
     "text": [
      "Using default parameters (catenary shape)\n",
      "WARNING: Multiple diameters found to produce MBL of 20000000 N. Diameter set to smallest, 0.151 m\n",
      "INFO: Line type 'chain' diameter set to 0.151 m corresponding to MBL of 10000000.000 N\n",
      "INFO: Anchor type set to 'drag-embedment'\n",
      "UHC input: 10000000 -- Mass: 37939.495842883116\n",
      "INFO: 'drag-embedment' anchor mass set to 37939.496 kg for load direction 'horizontal' and soil type 'soft clay'\n",
      "--------- Cost Report (2024$) ---------\n",
      "System Parameters\n",
      "    Water Depth: 200.000 m\n",
      "Line Parameters\n",
      "    Material   : chain\n",
      "    Number     : 3\n",
      "    Length     : 965.185 m\n",
      "    Diameter   : 0.151 m\n",
      "    design load: 10000000.000 N\n",
      "Anchor Parameters\n",
      "    Type       : drag-embedment\n",
      "    Number     : 3\n",
      "    Mass       : 37939.496 kg\n",
      "    Soil type  : soft clay\n",
      "Buoyancy Module Parameters\n",
      "--------------------------------------\n",
      "Anchor cost     : $ 472494.69  |  5.6%\n",
      "Line cost       : $ 3402986.89  |  40.3%\n",
      "Buoy cost       : $ 0.00  |  0.0%\n",
      "Connection cost : $ 4569049.48  |  54.1%\n",
      "Total cost      : $ 8444531.06  |  100.0%\n",
      "---------------------------------------\n"
     ]
    }
   ],
   "source": [
    "# A0\n",
    "\n",
    "import model_draft3 as model_draft\n",
    "\n",
    "# initialize\n",
    "model = model_draft.model()\n",
    "model.load_database()\n",
    "\n",
    "model.set_paramsA0()\n",
    "\n",
    "model.calc_cost()"
   ]
  },
  {
   "cell_type": "code",
   "execution_count": 6,
   "metadata": {},
   "outputs": [
    {
     "name": "stdout",
     "output_type": "stream",
     "text": [
      "Using SAM level user provided parameters\n",
      "WARNING: Multiple diameters found to produce MBL of 200000 N. Diameter set to smallest, 0.013 m\n",
      "INFO: Line type 'chain' diameter set to 0.013 m corresponding to MBL of 100000.000 N\n",
      "INFO: Anchor type set to 'drag-embedment'\n",
      "UHC input: 100000 -- Mass: 268.258765132532\n",
      "INFO: 'drag-embedment' anchor mass set to 268.259 kg for load direction 'horizontal' and soil type 'soft clay'\n",
      "--------- Cost Report (2024$) ---------\n",
      "System Parameters\n",
      "    Water Depth: 200.000 m\n",
      "Line Parameters\n",
      "    Material   : chain\n",
      "    Number     : 3\n",
      "    Length     : 1122.354 m\n",
      "    Diameter   : 0.013 m\n",
      "    design load: 100000.000 N\n",
      "Anchor Parameters\n",
      "    Type       : drag-embedment\n",
      "    Number     : 3\n",
      "    Mass       : 268.259 kg\n",
      "    Soil type  : soft clay\n",
      "Buoyancy Module Parameters\n",
      "    Num Buoys  : 3\n",
      "    Buoyancy   : 10.000 kN\n",
      "    Num Buoys  : 3\n",
      "    Buoyancy   : 25.000 kN\n",
      "--------------------------------------\n",
      "Anchor cost     : $ 3340.87  |  3.6%\n",
      "Line cost       : $ 29465.20  |  31.5%\n",
      "Buoy cost       : $ 52818.85  |  56.5%\n",
      "Connection cost : $ 7844.97  |  8.4%\n",
      "Total cost      : $ 93469.88  |  100.0%\n",
      "---------------------------------------\n"
     ]
    }
   ],
   "source": [
    "# A1\n",
    "\n",
    "import model_draft3 as model_draft\n",
    "\n",
    "# initialize\n",
    "model = model_draft.model()\n",
    "model.load_database()\n",
    "\n",
    "# Buoy table headers: \"Num of these buoys\", \"Buoyancy (kN)\"\n",
    "Buoy_table = [[3,10],[3,25]]\n",
    "\n",
    "model.set_paramsA1(shape=\"catenary\",depth=200,soil_type=\"soft clay\", design_load=100000, Buoy_Table=Buoy_table)\n",
    "\n",
    "model.calc_cost()"
   ]
  },
  {
   "cell_type": "code",
   "execution_count": 7,
   "metadata": {},
   "outputs": [
    {
     "name": "stdout",
     "output_type": "stream",
     "text": [
      "Using MoorPy level parameters. 1 different line types\n",
      "INFO: Anchor type set to 'drag-embedment'\n",
      "UHC input: 5043471.410500001 -- Mass: 18173.807543238796\n",
      "INFO: 'drag-embedment' anchor mass set to 18173.808 kg for load direction 'horizontal' and soil type 'soft clay'\n",
      "--------- Cost Report (2024$) ---------\n",
      "System Parameters\n",
      "    Water Depth: 200.000 m\n",
      "Line Parameters\n",
      "    Material   : chain\n",
      "    Number     : 3\n",
      "    Length     : 1457.000 m\n",
      "    Diameter   : 0.101 m\n",
      "    design load: 5043471.411 N\n",
      "Anchor Parameters\n",
      "    Type       : drag-embedment\n",
      "    Number     : 3\n",
      "    Mass       : 18173.808 kg\n",
      "    Soil type  : soft clay\n",
      "Buoyancy Module Parameters\n",
      "    Num Buoys  : 3\n",
      "    Buoyancy   : 10.000 kN\n",
      "    Num Buoys  : 3\n",
      "    Buoyancy   : 25.000 kN\n",
      "--------------------------------------\n",
      "Anchor cost     : $ 226334.78  |  7.2%\n",
      "Line cost       : $ 2305229.12  |  73.5%\n",
      "Buoy cost       : $ 52818.85  |  1.7%\n",
      "Connection cost : $ 550229.85  |  17.6%\n",
      "Total cost      : $ 3134612.60  |  100.0%\n",
      "---------------------------------------\n"
     ]
    }
   ],
   "source": [
    "# A2\n",
    "\n",
    "import model_draft3 as model_draft\n",
    "\n",
    "# initialize\n",
    "model = model_draft.model()\n",
    "model.load_database()\n",
    "\n",
    "# Line Table Headers: \"Num of these lines\", \"Line material (chain, polyester, nylon, wire, hmpe)\", \"Diameter (m)\", \"Factor of Safety\", \"Length (m)\", \"Anchor load direction (none, horizontal, both, vertical)\", \"Number of anchors per line\", \"Num connections per line (ensure not double counting)\"\n",
    "Line_table = [[3,\"chain\",0.101,2,1457,\"horizontal\",1, 2]]\n",
    "\n",
    "# Buoy table headers: \"Num of these buoys\", \"Buoyancy (kN)\"\n",
    "Buoy_table = [[3,10],[3,25]]\n",
    "\n",
    "model.set_paramsA2(Line_Table=Line_table, soil_type=\"soft clay\",depth=200,Buoy_Table=Buoy_table)\n",
    "\n",
    "model.calc_cost()"
   ]
  },
  {
   "cell_type": "code",
   "execution_count": 8,
   "metadata": {},
   "outputs": [
    {
     "name": "stdout",
     "output_type": "stream",
     "text": [
      "Using FAD level user provided parameters\n",
      "--------- Cost Report (2024$) ---------\n",
      "System Parameters\n",
      "    Water Depth: 200.000 m\n",
      "Line Parameters\n",
      "    Material   : chain\n",
      "    Number     : 3\n",
      "    Length     : 1457.000 m\n",
      "    Diameter   : 0.101 m\n",
      "    design load: 5043471.411 N\n",
      "Anchor Parameters\n",
      "    Type       : drag-embedment\n",
      "    Number     : 3\n",
      "    Mass       : 37939.496 kg\n",
      "    Soil type  : soft clay\n",
      "Buoyancy Module Parameters\n",
      "    Num Buoys  : 3\n",
      "    Buoyancy   : 10.000 kN\n",
      "    Num Buoys  : 3\n",
      "    Buoyancy   : 25.000 kN\n",
      "--------------------------------------\n",
      "Anchor cost     : $ 472494.69  |  14.0%\n",
      "Line cost       : $ 2305229.12  |  68.2%\n",
      "Buoy cost       : $ 52818.85  |  1.6%\n",
      "Connection cost : $ 550229.85  |  16.3%\n",
      "Total cost      : $ 3380772.50  |  100.0%\n",
      "---------------------------------------\n"
     ]
    }
   ],
   "source": [
    "# A3\n",
    "\n",
    "import model_draft3 as model_draft\n",
    "\n",
    "# initialize\n",
    "model = model_draft.model()\n",
    "model.load_database()\n",
    "\n",
    "# Line Table Headers: \"Num of these lines\", \"Line material (chain, polyester, nylon, wire, hmpe)\", \"Diameter (m)\", \"Factor of Safety\", \"Length (m)\", \"Num connections (ensure not double counting)\"\n",
    "Line_table = [[3,\"chain\",0.101,2,1457, 2]]\n",
    "\n",
    "# Anchor Table Headers: \"Num of these anchors\", \"Anchor type (drag-embedment, gravity, VLA, SEPLA, suction)\", \"Mass (kg)\", \"Soil type (soft clay, medium clay, hard clay, sand)\"\n",
    "Anchor_table = [[3,\"drag-embedment\", 37939.496, \"soft clay\"]]\n",
    "\n",
    "# Buoy table headers: \"Num of these buoys\", \"Buoyancy (kN)\"\n",
    "Buoy_table = [[3,10],[3,25]]\n",
    "\n",
    "model.set_paramsA3(Line_Table=Line_table,Anchor_Table=Anchor_table,depth=200,Buoy_Table=Buoy_table)\n",
    "\n",
    "model.calc_cost()"
   ]
  }
 ],
 "metadata": {
  "kernelspec": {
   "display_name": "base",
   "language": "python",
   "name": "python3"
  },
  "language_info": {
   "codemirror_mode": {
    "name": "ipython",
    "version": 3
   },
   "file_extension": ".py",
   "mimetype": "text/x-python",
   "name": "python",
   "nbconvert_exporter": "python",
   "pygments_lexer": "ipython3",
   "version": "3.11.8"
  }
 },
 "nbformat": 4,
 "nbformat_minor": 2
}
